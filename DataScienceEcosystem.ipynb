{
 "cells": [
  {
   "cell_type": "markdown",
   "id": "25bcab9f",
   "metadata": {},
   "source": [
    "# Data Science Tools and Ecosystem"
   ]
  },
  {
   "cell_type": "code",
   "execution_count": 8,
   "id": "d0b00250",
   "metadata": {},
   "outputs": [],
   "source": [
    "# In this notebook, Data Science Tools and Ecosystem are summarized. "
   ]
  },
  {
   "cell_type": "markdown",
   "id": "c9384685",
   "metadata": {},
   "source": [
    "1.Python\n",
    "2.SQL \n",
    "3.Java\n"
   ]
  },
  {
   "cell_type": "markdown",
   "id": "57a74909",
   "metadata": {},
   "source": [
    "1. Pandas\n",
    "2. Numpy\n",
    "3. TensorFlow"
   ]
  },
  {
   "cell_type": "markdown",
   "id": "5e02119e",
   "metadata": {},
   "source": [
    "|Data Science Tools|\n",
    "____________________\n",
    "|Python|\n",
    "|Java|\n",
    "|MongoDB|"
   ]
  },
  {
   "cell_type": "markdown",
   "id": "11498c27",
   "metadata": {},
   "source": [
    "|---|\n",
    "| Data Science Tools |\n",
    "|---|\n",
    "|Python|\n",
    "|Java|\n",
    "|MongoDB|"
   ]
  },
  {
   "cell_type": "markdown",
   "id": "ff93561b",
   "metadata": {},
   "source": [
    "### Below are a few examples of evaluating arithmetic expressions in Python. "
   ]
  },
  {
   "cell_type": "code",
   "execution_count": 10,
   "id": "f7ea0752",
   "metadata": {},
   "outputs": [
    {
     "data": {
      "text/plain": [
       "17"
      ]
     },
     "execution_count": 10,
     "metadata": {},
     "output_type": "execute_result"
    }
   ],
   "source": [
    "# This is a simple arithetic expression to multiply then add integers. \n",
    "\n",
    "(3*4)+5"
   ]
  },
  {
   "cell_type": "code",
   "execution_count": 13,
   "id": "65fecb0a",
   "metadata": {},
   "outputs": [
    {
     "data": {
      "text/plain": [
       "33.33"
      ]
     },
     "execution_count": 13,
     "metadata": {},
     "output_type": "execute_result"
    }
   ],
   "source": [
    "# This will convert 200 minutes to hours by dividing by 60 \n",
    "\n",
    "round((200/6),2)"
   ]
  },
  {
   "cell_type": "markdown",
   "id": "a1b23672",
   "metadata": {},
   "source": [
    "**Objectives**\n",
    "- List popular languages for Data Science\n",
    "- List development environment open source tools for Data Science \n",
    "- List commonly used libraries in Data Science "
   ]
  },
  {
   "cell_type": "markdown",
   "id": "5079a7a9",
   "metadata": {},
   "source": [
    "## Author \n",
    "Stephanie "
   ]
  },
  {
   "cell_type": "code",
   "execution_count": null,
   "id": "f37cbb37",
   "metadata": {},
   "outputs": [],
   "source": []
  }
 ],
 "metadata": {
  "kernelspec": {
   "display_name": "Python 3 (ipykernel)",
   "language": "python",
   "name": "python3"
  },
  "language_info": {
   "codemirror_mode": {
    "name": "ipython",
    "version": 3
   },
   "file_extension": ".py",
   "mimetype": "text/x-python",
   "name": "python",
   "nbconvert_exporter": "python",
   "pygments_lexer": "ipython3",
   "version": "3.11.4"
  }
 },
 "nbformat": 4,
 "nbformat_minor": 5
}
